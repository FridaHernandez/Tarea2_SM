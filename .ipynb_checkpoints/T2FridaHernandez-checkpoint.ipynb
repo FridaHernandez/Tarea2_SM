{
 "cells": [
  {
   "cell_type": "markdown",
   "metadata": {},
   "source": [
    "Tarea 2 Frida Hernandez if720476 Lunes 2 de septiembre 2019\n",
    "\n",
    "\n",
    "## Por qué Python es tan popular entre los desarrolladores: 3 razones por las que el lenguaje ha explotado\n",
    "\n",
    "\n",
    "### 1. Facilidad de aprendizaje\n",
    "\n",
    "Una de las caraterísticas de python es su facil sintaxis en programación, es muy amigable y entendible.\n",
    "\"Es un lenguaje que con muy poco código, puede lograr mucho, incluso si eres un programador novato\"(Panetta, 2018). Python se lee como el inglés que hace más propicio para el aprendizaje de usuarios.\n",
    "\n",
    "### 2. La explosión de la inteligencia artificial, el aprendizaje automático y la ciencia de datos en la empresa\n",
    "\n",
    "Python se ha popularizado mucho en el ambito de ciencia de datos y machine learning, los programadores cada vez lo utilizan más, esta es una de las causas por las que python ha crecido tanto. Sus variadas librerías son de gran ayuda para cientificos de datos; sin embrago este no es el único enfoque que se le puede dar a python.\n",
    "\n",
    "### 3. Una gran comunidad de desarrolladores\n",
    "\n",
    "Como antes menciodo, python se puede utilizar para resolver muchos problemas y se aplica desde para videojuegos, hasta para el desarrollo de la inteligencia artificial. Sus librerías son muy accesibles para guiarse en como resolver un problema.\n",
    "Si bien Python es un sistema tan nuevo que puede no ser tan rápido como otros, pero se compensa por su accesibilidad y facilidad de entendimiento"
   ]
  },
  {
   "cell_type": "markdown",
   "metadata": {},
   "source": [
    "## Spotlight: ¿Por qué el entrenamiento en Python vale la pena?\n",
    "\n",
    "\n",
    "### Los fundamentos de Python\n",
    "\n",
    "Las capacidades de Python van desde propósitos generales hasta funciones de programación de nivel superior, y tiene una amplia variedad de aplicaciones. Python también hace uso de la sintaxis optimizada, que ayuda en gran medida a simplificar el mantenimiento y las actualizaciones y le permite expresar varios conceptos de programación sin la necesidad de codificación adicional.\n",
    "\n",
    "Combine eso con su biblioteca bastante robusta y su compatibilidad general con la mayoría de los sistemas principales y tendrá un lenguaje de programación accesible incluso para el principiante de codificación .\n",
    "\n",
    "### Usos de Python\n",
    "\n",
    "El aprendizaje automático  y  Python también son un emparejamiento natural.  \n",
    "\n",
    "El aprendizaje automático es útil para implementar algoritmos que pueden detectar patrones, que es clave en el software de reconocimiento facial, reconocimiento de voz y sistemas de recomendación como aquellos en los que Amazon y YouTube confían.\n",
    "\n",
    "### Una mano amiga\n",
    "\n",
    "Si bien es probable que no tenga problemas para enseñarle a su equipo algunos de los conceptos más simples de Python , los conceptos de programación de alto nivel probablemente resultarán más difíciles de impartir. Para la mayoría de las empresas que buscan mejorar su presencia en la web o dominar nuevas técnicas de codificación, la capacitación en Python es una necesidad absoluta. Ya sea que esté buscando mojar los pies de su equipo con conceptos para principiantes o esté buscando un impulso adicional para dominar las aplicaciones más complejas, la capacitación proporcionará un impulso muy necesario.\n",
    "\n",
    "### Conquistando un nuevo idioma\n",
    "\n",
    "Si bien Python puede parecer intimidante para los no iniciados, una vez que haya invertido en la capacitación adecuada, encontrará que será mucho más fácil para su equipo captar estos conceptos y aplicarlos a los proyectos de la compañía."
   ]
  }
 ],
 "metadata": {
  "kernelspec": {
   "display_name": "Python 3",
   "language": "python",
   "name": "python3"
  },
  "language_info": {
   "codemirror_mode": {
    "name": "ipython",
    "version": 3
   },
   "file_extension": ".py",
   "mimetype": "text/x-python",
   "name": "python",
   "nbconvert_exporter": "python",
   "pygments_lexer": "ipython3",
   "version": "3.7.3"
  }
 },
 "nbformat": 4,
 "nbformat_minor": 2
}
