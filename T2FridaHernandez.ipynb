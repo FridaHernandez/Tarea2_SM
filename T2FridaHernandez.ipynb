{
 "cells": [
  {
   "cell_type": "markdown",
   "metadata": {},
   "source": [
    "Tarea 2 Frida Hernandez if720476 Lunes 2 de septiembre 2019\n",
    "\n",
    "\n",
    "## Por qué Python es tan popular entre los desarrolladores: 3 razones por las que el lenguaje ha explotado\n",
    "\n",
    "\n",
    "### 1. Facilidad de aprendizaje\n",
    "\n",
    "Una de las caraterísticas de python es su facil sintaxis en programación, es muy amigable y entendible.\n",
    "\"Es un lenguaje que con muy poco código, puede lograr mucho, incluso si eres un programador novato\"(Panetta, 2018). Python se lee como el inglés que hace más propicio para el aprendizaje de usuarios.\n",
    "\n",
    "### 2. La explosión de la inteligencia artificial, el aprendizaje automático y la ciencia de datos en la empresa\n",
    "\n",
    "Python se ha popularizado mucho en el ambito de ciencia de datos y machine learning, los programadores cada vez lo utilizan más, esta es una de las causas por las que python ha crecido tanto. Sus variadas librerías son de gran ayuda para cientificos de datos; sin embrago este no es el único enfoque que se le puede dar a python.\n",
    "\n",
    "### 3. Una gran comunidad de desarrolladores\n",
    "\n",
    "Como antes menciodo, python se puede utilizar para resolver muchos problemas y se aplica desde para videojuegos, hasta para el desarrollo de la inteligencia artificial. Sus librerías son muy accesibles para guiarse en como resolver un problema.\n",
    "Si bien Python es un sistema tan nuevo que puede no ser tan rápido como otros, pero se compensa por su accesibilidad y facilidad de entendimiento"
   ]
  }
 ],
 "metadata": {
  "kernelspec": {
   "display_name": "Python 3",
   "language": "python",
   "name": "python3"
  },
  "language_info": {
   "codemirror_mode": {
    "name": "ipython",
    "version": 3
   },
   "file_extension": ".py",
   "mimetype": "text/x-python",
   "name": "python",
   "nbconvert_exporter": "python",
   "pygments_lexer": "ipython3",
   "version": "3.7.3"
  }
 },
 "nbformat": 4,
 "nbformat_minor": 2
}
