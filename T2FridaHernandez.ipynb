{
 "cells": [
  {
   "cell_type": "markdown",
   "metadata": {},
   "source": [
    "Tarea 2 Frida Hernandez if720476 Lunes 2 de septiembre 2019\n",
    "\n",
    "\n",
    "## Por qué Python es tan popular entre los desarrolladores: 3 razones por las que el lenguaje ha explotado\n",
    "\n",
    "\n",
    "### 1. Facilidad de aprendizaje\n",
    "\n",
    "\n",
    "### 2. La explosión de la inteligencia artificial, el aprendizaje automático y la ciencia de datos en la empresa\n",
    "\n",
    "\n",
    "### 3. Una gran comunidad de desarrolladores\n",
    "\n"
   ]
  }
 ],
 "metadata": {
  "kernelspec": {
   "display_name": "Python 3",
   "language": "python",
   "name": "python3"
  },
  "language_info": {
   "codemirror_mode": {
    "name": "ipython",
    "version": 3
   },
   "file_extension": ".py",
   "mimetype": "text/x-python",
   "name": "python",
   "nbconvert_exporter": "python",
   "pygments_lexer": "ipython3",
   "version": "3.7.3"
  }
 },
 "nbformat": 4,
 "nbformat_minor": 2
}
